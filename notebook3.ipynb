{
  "nbformat": 4,
  "nbformat_minor": 0,
  "metadata": {
    "colab": {
      "provenance": []
    },
    "kernelspec": {
      "name": "python3",
      "display_name": "Python 3"
    },
    "language_info": {
      "name": "python"
    }
  },
  "cells": [
    {
      "cell_type": "markdown",
      "source": [
        "# TAREA 2"
      ],
      "metadata": {
        "id": "hPTSnKQIgKKe"
      }
    },
    {
      "cell_type": "markdown",
      "source": [
        "# 1. Selección de Dataset\n",
        "\n",
        "El dataset seleccionado se trata de Adult Income Dataset: https://www.kaggle.com/datasets/wenruliu/adult-income-dataset\n",
        "\n",
        "Este dataset contiene la información de 48842 sujetos que ofrecieron una serie de datos sobre aspectos personales, educativos, sociales y económicos. El objetivo que he propuesto para esta práctica es el de predecir el valor de la variable salario a partir del resto de predictores."
      ],
      "metadata": {
        "id": "rpL_TLcvgWYu"
      }
    },
    {
      "cell_type": "code",
      "source": [
        "import pandas as pd\n",
        "\n",
        "# Load the dataset\n",
        "file_path = '/content/adult.csv'\n",
        "data = pd.read_csv(file_path)"
      ],
      "metadata": {
        "id": "O11oUCQMgfna"
      },
      "execution_count": null,
      "outputs": []
    },
    {
      "cell_type": "markdown",
      "source": [
        "# 2. Análisis Exploratorio de Datos (EDA)\n",
        "\n",
        "Para cada sujeto se estudian las siguientes 15 características:\n",
        "\n",
        "* age: edad\n",
        "* workclass: sector laboral\n",
        "* fnlwgt: peso final asignado a cada entrada en la muestra de la encuesta\n",
        "* education: nivel educativo\n",
        "* educational-num: representación numérica ordenada de los niveles educativos\n",
        "* marital-status: estado civil\n",
        "* occupation: puesto de trabajo\n",
        "* relationship: situación familiar\n",
        "* race: raza\n",
        "* gender: género\n",
        "* capital-gain: ganancia de capital\n",
        "* capital-loss: pérdida de capital\n",
        "* hours-per-week: número de horas de trabajo a la semana\n",
        "* native-country: país de origen\n",
        "* income: salario\n",
        "\n",
        "Este dataset presenta variables numéricas y categóricas, además de valores nulos en forma de '?' en las categorías 'workclass', 'occupation' y 'native-country'. Además podemos apreciar un desbalance en la variable objetivo 'income': un 76.07% de los casos gana <=50K, mientras que el 23.93% tiene un salario de >50K.\n",
        "\n",
        "Por último, estudiaremos la presencia de outliers, datos que presentan una desviación muy significativa respecto a la media del conjunto, es posible que aparezcan debido a errores en la medición del dato y pueden inducir a fallos en las predicciones.\n",
        "\n",
        "Para la detección de outliers utilizaré Isolation Forest, un algoritmo de detección de anomalías en un conjunto de datos y se basa en la idea de que las observaciones normales tienden a ser más \"comunes\" y se agrupan, mientras que las anomalías son más infrecuentes y tienden a ser aisladas más rápidamente en el proceso de construcción del bosque de árboles de decisión.\n",
        "\n",
        "Para la representación gráfica de las columnas en las que se hayan detectado posibles outliers utilizaré gráficas boxplot, que nos permiten ver qué valores se encuentran más alejados de la media y valorar que implican estas anomalías en el conjunto de datos.\n",
        "\n",
        "Como podemos observar, según el algoritmo IsolationForest, las columnas con presencia de oitliers son age, fnlwgt, educational-num, capital-gain, capital-loss y hours-per-week. A continuación, trataremos cada uno de estos casos:\n",
        "\n",
        "* age: pese a que haya valores que se distancien de la media, estos datos siguen encontrándose en un rango factible para la vida humana (0 - 100 años), por lo que no considero que esta variable presente outliers.\n",
        "\n",
        "* fnlwgt y hours-per-week: estas variables presentan valores separados de la media, pero podemos apreciar que estos no se encuentran completamente aislados, es decir, existen otros puntos que también muestran un alejamiento respecto a los valores medios, es por ello que considero que estos valores no se tratan de outliers, sino de una tendencia simplemente menos generalizada.\n",
        "\n",
        "* capital-gain y capital-loss: sendas columnas presentan algunos valores puntuales muy alejados de la media, sobretodo capital-gain, sin embargo para juzgar la presencia de outliers en estas columnas es necesario entender primero su naturaleza. Estas variables representan la ganancia y pérdida de capital debido a razones extralaborales, por ejemplo se puede ganar mucho dinero invirtiendo en bolsa o se puede perder mucho dinero debido a la ludopatía, sin embargo la mayoría de la población no participa en este tipo de actividades económicas, es por ello que en estas dos columnas la media se encuentra en el valor 0 y tiene sentido que aquellos que sí participan, debido al riesgo que implican, puedan cuantificar valores tan extremos. En conclusión, considero que si eliminasemos estos valores extremos no estaríamos haciendo desaparecer los outliers, sino el propio sentido de la existencia de estas columnas.\n",
        "\n",
        "\n",
        "\n"
      ],
      "metadata": {
        "id": "iWPi0IpSgqj6"
      }
    },
    {
      "cell_type": "code",
      "source": [
        "# Displaying the DataFrame structure\n",
        "print(\"DataFrame Structure:\")\n",
        "print(data.head())\n",
        "\n",
        "# 1. Data types of each column\n",
        "print(\"1. Data Types:\")\n",
        "print(data.dtypes)\n",
        "\n",
        "# 2. Column labels\n",
        "print(\"\\n2. Columns:\")\n",
        "print(data.columns)\n",
        "\n",
        "# 3. Dimensions of the DataFrame\n",
        "print(\"\\n3. Shape:\")\n",
        "print(data.shape)\n",
        "\n",
        "# 4. Index of the DataFrame\n",
        "print(\"\\n4. Index:\")\n",
        "print(data.index)\n",
        "\n",
        "# 5. Number of elements in the DataFrame\n",
        "print(\"\\n5. Size:\")\n",
        "print(data.size)\n",
        "\n",
        "# 6. Basic information about DataFrame structure\n",
        "print(\"\\n6. Basic Information about DataFrame:\")\n",
        "print(data.info())\n",
        "\n",
        "# 7. Summary statistics for numerical columns\n",
        "print(\"\\n7. Summary Statistics for Numerical Columns:\")\n",
        "print(data.describe())\n",
        "\n",
        "# 8. Missing values\n",
        "print(\"\\n8. Checking for Missing Values:\")\n",
        "print(data.isnull().sum())\n",
        "\n",
        "# 9. Checking for ? values\n",
        "print(\"\\n9. Number of ? occurrences:\")\n",
        "for column in data.columns:\n",
        "    question_mark_count = data[column].eq('?').sum()\n",
        "    print(f'{column}: {question_mark_count}')\n",
        "\n",
        "# 10. Checking for imbalance in the target variable\n",
        "percentage_counts = data['income'].value_counts(normalize=True) * 100\n",
        "print(f'\\n10. Percentage of occurrences for each value in the variable income:\\n{percentage_counts}')\n",
        "\n",
        "# 11. Checking four outliers\n",
        "print('\\n11. Visualize columns in a boxplot diagram to check for outliers')\n",
        "\n",
        "from sklearn.ensemble import IsolationForest\n",
        "import matplotlib.pyplot as plt\n",
        "from sklearn.ensemble import IsolationForest\n",
        "\n",
        "# Function to detect outliers using Isolation Forest\n",
        "def detect_outliers_isolation_forest(data, contamination=0.05):\n",
        "    clf = IsolationForest(contamination=contamination, random_state=42)\n",
        "    outliers = clf.fit_predict(data.values)\n",
        "    return outliers == -1\n",
        "\n",
        "# Visualize boxplots to identify outliers\n",
        "def visualize_outliers(data, column):\n",
        "    plt.figure(figsize=(8, 6))\n",
        "    plt.boxplot(data, vert=False)\n",
        "    plt.title(f'Boxplot of {column}')\n",
        "    plt.show()\n",
        "\n",
        "# Iterate over the columns of the DataFrame\n",
        "columns_with_outliers = []\n",
        "\n",
        "for column in data.columns:\n",
        "    if data[column].dtype in ['int64', 'float64']:\n",
        "\n",
        "        # Use Isolation Forest to detect outliers\n",
        "        outliers = detect_outliers_isolation_forest(data[[column]])\n",
        "\n",
        "        # If there are outliers, add the column to the list\n",
        "        if outliers.any():\n",
        "            columns_with_outliers.append(column)\n",
        "\n",
        "            # Visualize boxplots for the column with outliers\n",
        "            visualize_outliers(data[[column]], column)\n",
        "\n",
        "# Show the columns containing outliers\n",
        "print(\"Columns with outliers:\", columns_with_outliers)"
      ],
      "metadata": {
        "colab": {
          "base_uri": "https://localhost:8080/",
          "height": 5579
        },
        "id": "9Jf7OP62guf2",
        "outputId": "4407f5cb-7913-4f69-e836-cc62b4fc3836"
      },
      "execution_count": null,
      "outputs": [
        {
          "output_type": "stream",
          "name": "stdout",
          "text": [
            "DataFrame Structure:\n",
            "   age  workclass  fnlwgt     education  educational-num      marital-status  \\\n",
            "0   25    Private  226802          11th                7       Never-married   \n",
            "1   38    Private   89814       HS-grad                9  Married-civ-spouse   \n",
            "2   28  Local-gov  336951    Assoc-acdm               12  Married-civ-spouse   \n",
            "3   44    Private  160323  Some-college               10  Married-civ-spouse   \n",
            "4   18          ?  103497  Some-college               10       Never-married   \n",
            "\n",
            "          occupation relationship   race  gender  capital-gain  capital-loss  \\\n",
            "0  Machine-op-inspct    Own-child  Black    Male             0             0   \n",
            "1    Farming-fishing      Husband  White    Male             0             0   \n",
            "2    Protective-serv      Husband  White    Male             0             0   \n",
            "3  Machine-op-inspct      Husband  Black    Male          7688             0   \n",
            "4                  ?    Own-child  White  Female             0             0   \n",
            "\n",
            "   hours-per-week native-country income  \n",
            "0              40  United-States  <=50K  \n",
            "1              50  United-States  <=50K  \n",
            "2              40  United-States   >50K  \n",
            "3              40  United-States   >50K  \n",
            "4              30  United-States  <=50K  \n",
            "1. Data Types:\n",
            "age                 int64\n",
            "workclass          object\n",
            "fnlwgt              int64\n",
            "education          object\n",
            "educational-num     int64\n",
            "marital-status     object\n",
            "occupation         object\n",
            "relationship       object\n",
            "race               object\n",
            "gender             object\n",
            "capital-gain        int64\n",
            "capital-loss        int64\n",
            "hours-per-week      int64\n",
            "native-country     object\n",
            "income             object\n",
            "dtype: object\n",
            "\n",
            "2. Columns:\n",
            "Index(['age', 'workclass', 'fnlwgt', 'education', 'educational-num',\n",
            "       'marital-status', 'occupation', 'relationship', 'race', 'gender',\n",
            "       'capital-gain', 'capital-loss', 'hours-per-week', 'native-country',\n",
            "       'income'],\n",
            "      dtype='object')\n",
            "\n",
            "3. Shape:\n",
            "(48842, 15)\n",
            "\n",
            "4. Index:\n",
            "RangeIndex(start=0, stop=48842, step=1)\n",
            "\n",
            "5. Size:\n",
            "732630\n",
            "\n",
            "6. Basic Information about DataFrame:\n",
            "<class 'pandas.core.frame.DataFrame'>\n",
            "RangeIndex: 48842 entries, 0 to 48841\n",
            "Data columns (total 15 columns):\n",
            " #   Column           Non-Null Count  Dtype \n",
            "---  ------           --------------  ----- \n",
            " 0   age              48842 non-null  int64 \n",
            " 1   workclass        48842 non-null  object\n",
            " 2   fnlwgt           48842 non-null  int64 \n",
            " 3   education        48842 non-null  object\n",
            " 4   educational-num  48842 non-null  int64 \n",
            " 5   marital-status   48842 non-null  object\n",
            " 6   occupation       48842 non-null  object\n",
            " 7   relationship     48842 non-null  object\n",
            " 8   race             48842 non-null  object\n",
            " 9   gender           48842 non-null  object\n",
            " 10  capital-gain     48842 non-null  int64 \n",
            " 11  capital-loss     48842 non-null  int64 \n",
            " 12  hours-per-week   48842 non-null  int64 \n",
            " 13  native-country   48842 non-null  object\n",
            " 14  income           48842 non-null  object\n",
            "dtypes: int64(6), object(9)\n",
            "memory usage: 5.6+ MB\n",
            "None\n",
            "\n",
            "7. Summary Statistics for Numerical Columns:\n",
            "                age        fnlwgt  educational-num  capital-gain  \\\n",
            "count  48842.000000  4.884200e+04     48842.000000  48842.000000   \n",
            "mean      38.643585  1.896641e+05        10.078089   1079.067626   \n",
            "std       13.710510  1.056040e+05         2.570973   7452.019058   \n",
            "min       17.000000  1.228500e+04         1.000000      0.000000   \n",
            "25%       28.000000  1.175505e+05         9.000000      0.000000   \n",
            "50%       37.000000  1.781445e+05        10.000000      0.000000   \n",
            "75%       48.000000  2.376420e+05        12.000000      0.000000   \n",
            "max       90.000000  1.490400e+06        16.000000  99999.000000   \n",
            "\n",
            "       capital-loss  hours-per-week  \n",
            "count  48842.000000    48842.000000  \n",
            "mean      87.502314       40.422382  \n",
            "std      403.004552       12.391444  \n",
            "min        0.000000        1.000000  \n",
            "25%        0.000000       40.000000  \n",
            "50%        0.000000       40.000000  \n",
            "75%        0.000000       45.000000  \n",
            "max     4356.000000       99.000000  \n",
            "\n",
            "8. Checking for Missing Values:\n",
            "age                0\n",
            "workclass          0\n",
            "fnlwgt             0\n",
            "education          0\n",
            "educational-num    0\n",
            "marital-status     0\n",
            "occupation         0\n",
            "relationship       0\n",
            "race               0\n",
            "gender             0\n",
            "capital-gain       0\n",
            "capital-loss       0\n",
            "hours-per-week     0\n",
            "native-country     0\n",
            "income             0\n",
            "dtype: int64\n",
            "\n",
            "9. Number of ? occurrences:\n",
            "age: 0\n",
            "workclass: 2799\n",
            "fnlwgt: 0\n",
            "education: 0\n",
            "educational-num: 0\n",
            "marital-status: 0\n",
            "occupation: 2809\n",
            "relationship: 0\n",
            "race: 0\n",
            "gender: 0\n",
            "capital-gain: 0\n",
            "capital-loss: 0\n",
            "hours-per-week: 0\n",
            "native-country: 857\n",
            "income: 0\n",
            "\n",
            "10. Percentage of occurrences for each value in the variable income:\n",
            "<=50K    76.071823\n",
            ">50K     23.928177\n",
            "Name: income, dtype: float64\n",
            "\n",
            "11. Visualize columns in a boxplot diagram to check for outliers\n"
          ]
        },
        {
          "output_type": "display_data",
          "data": {
            "text/plain": [
              "<Figure size 800x600 with 1 Axes>"
            ],
            "image/png": "[encoded data removed]"
          },
          "metadata": {}
        },
        {
          "output_type": "display_data",
          "data": {
            "text/plain": [
              "<Figure size 800x600 with 1 Axes>"
            ],
            "image/png": "[encoded data removed]"
          },
          "metadata": {}
        },
        {
          "output_type": "display_data",
          "data": {
            "text/plain": [
              "<Figure size 800x600 with 1 Axes>"
            ],
            "image/png": "[encoded data removed]"
          },
          "metadata": {}
        },
        {
          "output_type": "display_data",
          "data": {
            "text/plain": [
              "<Figure size 800x600 with 1 Axes>"
            ],
            "image/png": "[encoded data removed]"
          },
          "metadata": {}
        },
        {
          "output_type": "display_data",
          "data": {
            "text/plain": [
              "<Figure size 800x600 with 1 Axes>"
            ],
            "image/png": "[encoded data removed]"
          },
          "metadata": {}
        },
        {
          "output_type": "display_data",
          "data": {
            "text/plain": [
              "<Figure size 800x600 with 1 Axes>"
            ],
            "image/png": "[encoded data removed]"
          },
          "metadata": {}
        },
        {
          "output_type": "stream",
          "name": "stdout",
          "text": [
            "Columns with outliers: ['age', 'fnlwgt', 'educational-num', 'capital-gain', 'capital-loss', 'hours-per-week']\n"
          ]
        }
      ]
    },
    {
      "cell_type": "markdown",
      "source": [
        "# 3. Preprocesamiento de Datos\n",
        "\n",
        "En este ejercicio vamos a desarrollar 3 opciones de preprocesamiento de datos, para cada variante se seleccionará un conjunto de técnicas distintas para los siguientes puntos:\n",
        "\n",
        "* Imputación de valores nulos.\n",
        "* Transformación de columnas numéricas.\n",
        "* Codificación de columnas categóricas.\n",
        "* Reducción de dimensionalidad.\n",
        "\n",
        "Independientemente de la opción, todas requieren una serie de líneas de código comunes:\n",
        "* Separación de la variable objetivo del resto de columnas.\n",
        "* Codificación de la variable objetivo.\n",
        "* Reemplazar las apariciones del carácter '?' por el símbolo nulo de modo que sea más fácil trabajar con estos datos.\n",
        "* Identificar las variables numéricas y categóricas de cara a aplicarles los transformadores seleccionados para cada una.\n",
        "* Crear una función para aplicar los transformadores seleccionados a un dataset específico."
      ],
      "metadata": {
        "id": "6FnkBmSegxKM"
      }
    },
    {
      "cell_type": "code",
      "source": [
        "from sklearn.compose import ColumnTransformer\n",
        "from sklearn.pipeline import Pipeline\n",
        "from sklearn.preprocessing import LabelBinarizer\n",
        "\n",
        "# Separate features and target variable\n",
        "x = data.drop(columns = ['income'], axis=1)\n",
        "y = data['income']\n",
        "\n",
        "# LabelBinarizer will assign 0 to the negative class ('<=50K') and 1 to the positive class ('>50K')\n",
        "label_binarizer = LabelBinarizer()\n",
        "y_binary = label_binarizer.fit_transform(y)\n",
        "\n",
        "# y_binary_series contains the labels encoded in binary in a pandas series format\n",
        "y_binary_series = pd.Series(y_binary.flatten(), index=y.index)\n",
        "\n",
        "# Identify which columns contains '?' values\n",
        "columns_with_question_marks = ['workclass', 'occupation', 'native-country']\n",
        "\n",
        "for column in columns_with_question_marks:\n",
        "  # Replace \"?\" with NaN in the column\n",
        "  x[column] = x[column].replace('?', pd.NA)\n",
        "\n",
        "# Identify numerical and categorical columns\n",
        "numerical_cols = x.select_dtypes(include=['int64']).columns\n",
        "categorical_cols = x.select_dtypes(include=['object']).columns\n",
        "\n",
        "# Function to apply the selected numerical and categorical transformers to a dataset\n",
        "def transformColumns(numerical_transformer, categorical_transformer, data):\n",
        "\n",
        "  # Create a ColumnTransformer\n",
        "  preprocessor = ColumnTransformer(\n",
        "      transformers=[\n",
        "          ('num', numerical_transformer, numerical_cols),\n",
        "          ('cat', categorical_transformer, categorical_cols)\n",
        "      ]\n",
        "  )\n",
        "\n",
        "  # Create a pipeline\n",
        "  pipeline = Pipeline(steps=[('preprocessor', preprocessor)])\n",
        "\n",
        "  # Fit and transform the data\n",
        "  data_transformed = pipeline.fit_transform(data)\n",
        "\n",
        "  # Return the transformed dataset\n",
        "  return data_transformed\n"
      ],
      "metadata": {
        "id": "fA0iR_4BPF9O"
      },
      "execution_count": null,
      "outputs": []
    },
    {
      "cell_type": "markdown",
      "source": [
        "## 3.1 Opción 1\n",
        "La opción 1 sigue la siguiente configuración de preprocesamiento:\n",
        "\n",
        "* Imputación de valores nulos: sustitución de valores nulos por el valor más común en la columna.\n",
        "\n",
        "* Transformación de columnas numéricas: StandardScaler permite estandarizar las características numéricas ajustándolas para tener una media de 0 y una desviación estándar de 1. Esto garantiza que todas las categorías se encuentren en una escala comparable.\n",
        "\n",
        "* Codificación de columnas categóricas: OneHotEncoder permite convertir variables categóricas en un formato numérico asignando a cada categoría un valor binario único, creando así nuevas columnas binarias para cada categoría. Estas columnas indican la presencia o ausencia de la categoría en cada observación, además permite codificar evitando que el modelo asuma erróneamente un orden o relación ordinal entre las categorías.\n",
        "\n",
        "* Reducción de dimensionalidad: TruncatedSVD, debido a que al usar OneHotEncoder el dataset se convierte matriz dispersa (sparse matrix) por la una gran cantidad de variables categóricas y la cantidad de categorías dentro de esas variables, decidí utilizar TruncatedSVD la cual es una técnica similar a PCA pero diseñada específicamente para matrices dispersas."
      ],
      "metadata": {
        "id": "A9UZMCngLtWk"
      }
    },
    {
      "cell_type": "code",
      "source": [
        "from sklearn.preprocessing import OneHotEncoder, StandardScaler\n",
        "from sklearn.decomposition import TruncatedSVD\n",
        "\n",
        "data1 = x\n",
        "\n",
        "for column in columns_with_question_marks:\n",
        "\n",
        "  # Calculate the most common value of the column\n",
        "  most_common_value = data1[column].mode().iloc[0]\n",
        "\n",
        "  # Replace NaN with the most common value\n",
        "  data1[column].fillna(most_common_value, inplace=True)\n",
        "\n",
        "# Create transformers for numerical and categorical features\n",
        "numerical_transformer = StandardScaler()\n",
        "categorical_transformer = OneHotEncoder(handle_unknown='ignore')\n",
        "\n",
        "# Fit and transform the data\n",
        "data1_transformed = transformColumns(numerical_transformer, categorical_transformer, data)\n",
        "\n",
        "# Create an instance of TruncatedSVD and especify the number of components\n",
        "svd = TruncatedSVD(n_components=2)\n",
        "\n",
        "# Apply TruncatedSVD to standarized and encoded data\n",
        "data1_svd = svd.fit_transform(data1_transformed)\n",
        "\n",
        "# Create a dataframe with the result of TruncatedSVD\n",
        "data1_preprocessed = pd.DataFrame(data=data1_svd, columns=['PC1', 'PC2'])\n",
        "\n",
        "print(data1_preprocessed)"
      ],
      "metadata": {
        "colab": {
          "base_uri": "https://localhost:8080/"
        },
        "id": "RLvc4ok6k9Kk",
        "outputId": "1fab1fb1-af2a-4171-ebd8-a82a13791257"
      },
      "execution_count": null,
      "outputs": [
        {
          "output_type": "stream",
          "name": "stdout",
          "text": [
            "            PC1       PC2\n",
            "0      1.521412 -1.626635\n",
            "1      2.389210  0.471004\n",
            "2      1.851186  0.102778\n",
            "3      1.909488  0.652293\n",
            "4      1.445506 -1.798480\n",
            "...         ...       ...\n",
            "48837  1.759505 -0.496606\n",
            "48838  2.382730  0.067575\n",
            "48839  1.743717  0.002201\n",
            "48840  2.088264 -2.178446\n",
            "48841  1.626073  0.693975\n",
            "\n",
            "[48842 rows x 2 columns]\n"
          ]
        }
      ]
    },
    {
      "cell_type": "markdown",
      "source": [
        "## 3.2 Opción 2\n",
        "La opción 2 sigue la siguiente configuración de preprocesamiento:\n",
        "\n",
        "* Imputación de valores nules: eliminación de filas con presencia de valores nulos.\n",
        "\n",
        "* Transformación de columnas numéricas: MinMaxScaler permite ajustar categorías numéricas a un rango específico, generalmente entre 0 y 1, para ello resta el valor mínimo y divide por la diferencia entre el valor máximo y mínimo, por tanto preserva la relación proporcional entre los valores originales.\n",
        "\n",
        "* Codificación de columnas categóricas: OrdinalEncoder asigna a cada categoría un valor numérico de acuerdo al orden de aparición de la catagería en la columna.\n",
        "\n",
        "* Reducción de dimensionalidad: PCA transforma un conjunto de datos compuesto por múltiples variables correlacionadas, en un nuevo conjunto de variables no correlacionadas (componentes principales). Estos componentes capturan la mayor parte de la variabilidad de los datos, permitiendo así representar la información de manera más compacta y eficiente. Además de mejorar el rendimiento de los modelos al reducir la magnitud del espacio de características original."
      ],
      "metadata": {
        "id": "bWDu7Ij8Lz-q"
      }
    },
    {
      "cell_type": "code",
      "source": [
        "from sklearn.preprocessing import OrdinalEncoder, MinMaxScaler\n",
        "from sklearn.decomposition import PCA\n",
        "\n",
        "data2 = x\n",
        "\n",
        "data2.dropna()\n",
        "\n",
        "# Create transformers for numerical and categorical features\n",
        "numerical_transformer = MinMaxScaler()\n",
        "categorical_transformer = OrdinalEncoder()\n",
        "\n",
        "\n",
        "# Fit and transform the data\n",
        "data2_transformed = transformColumns(numerical_transformer, categorical_transformer, data2)\n",
        "\n",
        "# Create an instance of PCA and especify the number of components\n",
        "pca = PCA(n_components=2)\n",
        "\n",
        "# Apply PCA to standarized and encoded data\n",
        "data2_pca = pca.fit_transform(data2_transformed)\n",
        "\n",
        "# Create a dataframe with the result of PCA\n",
        "data2_preprocessed = pd.DataFrame(data=data2_pca, columns=['PC1', 'PC2'])\n",
        "\n",
        "print(data2_preprocessed)"
      ],
      "metadata": {
        "colab": {
          "base_uri": "https://localhost:8080/"
        },
        "id": "1ImqGUM4L6ET",
        "outputId": "24aa5e31-f274-4742-d395-1bbf7055dd7c"
      },
      "execution_count": null,
      "outputs": [
        {
          "output_type": "stream",
          "name": "stdout",
          "text": [
            "            PC1       PC2\n",
            "0     -0.762593  3.877567\n",
            "1     -1.639535 -2.179480\n",
            "2     -1.290926  4.940357\n",
            "3     -1.925094 -2.069601\n",
            "4     -1.929589  0.633090\n",
            "...         ...       ...\n",
            "48837 -1.270294  6.683308\n",
            "48838 -1.631548 -0.371112\n",
            "48839 -1.625096 -5.781032\n",
            "48840 -1.637795 -5.797856\n",
            "48841 -1.631484 -3.150698\n",
            "\n",
            "[48842 rows x 2 columns]\n"
          ]
        }
      ]
    },
    {
      "cell_type": "markdown",
      "source": [
        "## 3.3 Opción 3\n",
        "La opción 3 sigue la siguiente configuración de preprocesamiento:\n",
        "\n",
        "* Imputación de valores nules: sustitución de valores nulos por el valor más común en la columna.\n",
        "\n",
        "* Transformación de columnas numéricas: MinMaxScaler permite ajustar categorías numéricas a un rango específico, generalmente entre 0 y 1, para ello resta el valor mínimo y divide por la diferencia entre el valor máximo y mínimo, por tanto preserva la relación proporcional entre los valores originales.\n",
        "\n",
        "* Codificación de columnas categóricas: OrdinalEncoder asigna a cada categoría un valor numérico de acuerdo al orden de aparición de la catagería en la columna.\n",
        "\n",
        "* Reducción de dimensionalidad: no se ha utilizado ninguna técnica de reducción de dimensionalidad en esta última opción, con el objetivo de realizar una comparación con las anteriores dos opciones en las que sí se ha utilizado alguna técnica."
      ],
      "metadata": {
        "id": "oAhZQO04L9TR"
      }
    },
    {
      "cell_type": "code",
      "source": [
        "from sklearn.preprocessing import OrdinalEncoder, MinMaxScaler\n",
        "\n",
        "data3 = x\n",
        "\n",
        "for column in columns_with_question_marks:\n",
        "\n",
        "  # Calculate the most common value of the column\n",
        "  most_common_value = data3[column].mode().iloc[0]\n",
        "\n",
        "  # Replace NaN with the most common value\n",
        "  data3[column].fillna(most_common_value, inplace=True)\n",
        "\n",
        "# Create transformers for numerical and categorical features\n",
        "numerical_transformer = MinMaxScaler()\n",
        "categorical_transformer = OrdinalEncoder()\n",
        "\n",
        "# Fit and transform the data\n",
        "data3_preprocessed = transformColumns(numerical_transformer, categorical_transformer, data3)\n",
        "\n",
        "print(data3_preprocessed)"
      ],
      "metadata": {
        "colab": {
          "base_uri": "https://localhost:8080/"
        },
        "id": "pHNb9n8BMBVu",
        "outputId": "6ee2e817-acb2-4e08-90f2-3a82523dffc1"
      },
      "execution_count": null,
      "outputs": [
        {
          "output_type": "stream",
          "name": "stdout",
          "text": [
            "[[ 0.10958904  0.14512876  0.4        ...  2.          1.\n",
            "  38.        ]\n",
            " [ 0.28767123  0.05245126  0.53333333 ...  4.          1.\n",
            "  38.        ]\n",
            " [ 0.15068493  0.21964867  0.73333333 ...  4.          1.\n",
            "  38.        ]\n",
            " ...\n",
            " [ 0.56164384  0.09446153  0.53333333 ...  4.          0.\n",
            "  38.        ]\n",
            " [ 0.06849315  0.12800425  0.53333333 ...  4.          1.\n",
            "  38.        ]\n",
            " [ 0.47945205  0.18648211  0.53333333 ...  4.          0.\n",
            "  38.        ]]\n"
          ]
        }
      ]
    },
    {
      "cell_type": "markdown",
      "source": [
        "# 4. Entrenamiento del Modelos\n",
        "\n",
        "En este apartado se seleccionará la técnica de cross validation y el algoritmo de clasificación que se aplicará a cada una de las opciones anteriores.\n",
        "\n",
        "En primer lugar dividiremos cada uno de los conjuntos de datos preprocesados en 5 subconjuntos mediante cross-validation, para este fin he decidido utilizar KFold como técnica de cross-validation.\n",
        "\n",
        "Respecto a la elección del algoritmo para entrenar el modelo, teniendo en cuenta que se trata de un problema de clasificación he decidido utilizar RandomForestClassifier."
      ],
      "metadata": {
        "id": "UVVBLGXVhDQp"
      }
    },
    {
      "cell_type": "code",
      "source": [
        "from sklearn.model_selection import KFold\n",
        "from sklearn.ensemble import RandomForestClassifier\n",
        "from sklearn.pipeline import Pipeline\n",
        "\n",
        "# Create an instance of KFold technique for 5 subsets\n",
        "kf = KFold(n_splits=5)\n",
        "\n",
        "# Create pipeline with the RandomForestClassifier algorithm to train the model\n",
        "pipeline = Pipeline(steps=[\n",
        "  ('classifier', RandomForestClassifier())\n",
        "])"
      ],
      "metadata": {
        "id": "wilm_adkhEfj"
      },
      "execution_count": null,
      "outputs": []
    },
    {
      "cell_type": "markdown",
      "source": [
        "# 5. Evaluación y Comparación\n",
        "\n",
        "Finalmente para evaluar las distintas opciones de preprocesamiento utilizaremos la función cross_val_score(pipeline, x, y, scoring='f1', cv=kf) que nos permite aplicar el algoritmo del pipeline al conjunto de datos x con el objetivo de predecir y, aplicando como técnica de cross-validation el argumento cv y  utilizando F1 como métrica de evaluación para examinar el rendimiento del modelo.\n",
        "\n",
        "La puntuación F1 muestra la media entre la precisión y la exhaustividad del modelo, donde la precisión se refiere a la proporción de predicciones positivas correctas entre todas las predicciones positivas, y la exhaustividad se refiere a la proporción de instancias positivas que fueron correctamente identificadas por el modelo entre todas las instancias positivas reales.\n",
        "\n",
        "Para cada opción se mostrará la puntación F1 de sus 5 subconjuntos de datos, además de la media y desviación estándar de estas 5 puntuaciones."
      ],
      "metadata": {
        "id": "jq8x2dVbf8Ii"
      }
    },
    {
      "cell_type": "code",
      "source": [
        "from sklearn.model_selection import cross_val_score\n",
        "\n",
        "scores1 = cross_val_score(pipeline, data1_preprocessed, y_binary_series, scoring='f1', cv=kf)\n",
        "\n",
        "print(\"Model Evaluation for Option 1:\\n\")\n",
        "\n",
        "# Print the F1 Scores for each fold for Option 1\n",
        "print(\"F1 Score:\")\n",
        "for i, score in enumerate(scores1, start=1):\n",
        "    print(f\"Fold {i}: {score:.4f}\")\n",
        "\n",
        "# Print the mean and standard deviation of F1 Scores for Option 1\n",
        "print(f\"Mean F1 Score: {scores1.mean():.4f}\")\n",
        "print(f\"Standard Deviation: {scores1.std():.4f}\")\n",
        "\n",
        "scores2 = cross_val_score(pipeline, data2_preprocessed, y_binary_series, scoring='f1', cv=kf)\n",
        "\n",
        "print(\"\\nModel Evaluation for Option 2:\\n\")\n",
        "\n",
        "# Print the F1 Scores for each fold for Option 2\n",
        "print(\"F1 Score:\")\n",
        "for i, score in enumerate(scores2, start=1):\n",
        "    print(f\"Fold {i}: {score:.4f}\")\n",
        "\n",
        "# Print the mean and standard deviation of F1 Scores for Option 2\n",
        "print(f\"Mean F1 Score: {scores2.mean():.4f}\")\n",
        "print(f\"Standard Deviation: {scores2.std():.4f}\")\n",
        "\n",
        "scores3 = cross_val_score(pipeline, data3_preprocessed, y_binary_series, scoring='f1', cv=kf)\n",
        "\n",
        "print(\"\\nModel Evaluation for Option 3:\\n\")\n",
        "\n",
        "# Print the F1 Scores for each fold for Option 3\n",
        "print(\"F1 Score:\")\n",
        "for i, score in enumerate(scores3, start=1):\n",
        "    print(f\"Fold {i}: {score:.4f}\")\n",
        "\n",
        "# Print the mean and standard deviation of F1 Scores for Option 3\n",
        "print(f\"Mean F1 Score: {scores3.mean():.4f}\")\n",
        "print(f\"Standard Deviation: {scores3.std():.4f}\")\n"
      ],
      "metadata": {
        "id": "TCW6-g9hgAzD",
        "colab": {
          "base_uri": "https://localhost:8080/"
        },
        "outputId": "b2f4b3bd-c86f-4764-c856-0f10428b6c1e"
      },
      "execution_count": null,
      "outputs": [
        {
          "output_type": "stream",
          "name": "stdout",
          "text": [
            "Model Evaluation for Option 1:\n",
            "\n",
            "F1 Score:\n",
            "Fold 1: 0.5326\n",
            "Fold 2: 0.5499\n",
            "Fold 3: 0.5434\n",
            "Fold 4: 0.5383\n",
            "Fold 5: 0.5684\n",
            "Mean F1 Score: 0.5465\n",
            "Standard Deviation: 0.0123\n",
            "\n",
            "Model Evaluation for Option 2:\n",
            "\n",
            "F1 Score:\n",
            "Fold 1: 0.5525\n",
            "Fold 2: 0.5484\n",
            "Fold 3: 0.5459\n",
            "Fold 4: 0.5627\n",
            "Fold 5: 0.5689\n",
            "Mean F1 Score: 0.5557\n",
            "Standard Deviation: 0.0087\n",
            "\n",
            "Model Evaluation for Option 3:\n",
            "\n",
            "F1 Score:\n",
            "Fold 1: 0.6615\n",
            "Fold 2: 0.6736\n",
            "Fold 3: 0.6705\n",
            "Fold 4: 0.6751\n",
            "Fold 5: 0.6893\n",
            "Mean F1 Score: 0.6740\n",
            "Standard Deviation: 0.0090\n"
          ]
        }
      ]
    },
    {
      "cell_type": "markdown",
      "source": [
        "En vista de las evaluaciones anteriores, podemos confirmar que la opción 3 es la que ha obtenido un mejor rendimiento en la media de sus 5 subconjuntos, esta opción se diferencia de las otras en no utilizar ninguna técnica de reducción de la dimensionalidad. Esta diferencia de rendimiento puede explicarse debido a que en las opciones 1 y 2, al estar reduciendo las dimensiones a solo dos componentes, estamos perdiendo una gran parte de información que puede servir de mucha utilidad al modelo.\n",
        "\n",
        "Por otra parte, entre las opciones que sí utilizan reducción de la dimensionalidad resulta difícil afirmar que una de las opciones de preprocesamiento sea mucho mejor que otra, pues las diferencias de rendimiento entre ellas son mínimas. No obstante, cabe destacar que este ejemplo no tiene porque ser extrapolable a otros casos, en los que el uso de técnica de reducción de la dimensionalidad pueden dar lugar a grandes diferencias en las métricas de evaluación.\n",
        "\n",
        "En cualquiera de los casos el preprocesamiento y la reducción de la dimensionalidad son etapas vitales en el proceso de entrenamiento de un modelo. Mediante el preprocesamiento podemos abordar problemas como valores faltantes y la codificación de variables categóricas para que los algoritmos puedan manejarlos de manera más efectiva.\n",
        "\n",
        "Mientras que la reducción de dimensionalidad ayuda a acelerar los algoritmos de aprendizaje automático al trabajar con conjuntos de datos más manejables y prevenir el sobreajuste al evitar que los modelos memoricen información poco relevante para su objetivo. Además es clave saber elegir el número correcto de componentes que queremos obtener del algoritmo de reducción de la dimensionalidad, puesto que un número de componentes inadecuadamente bajo puede hacer que el modelo pierda información que le sería de utilidad, mientras que un número excesivamente alto hace que pierda valor el uso de la técnica al no estar eliminando tanta información redundante como sería posible."
      ],
      "metadata": {
        "id": "Hc0XNo9uKO9C"
      }
    }
  ]
}